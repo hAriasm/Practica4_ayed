{
 "cells": [
  {
   "cell_type": "code",
   "execution_count": 5,
   "id": "adafabbb",
   "metadata": {},
   "outputs": [],
   "source": [
    "class BTreeNode(object):\n",
    "    \"\"\"A B-Tree Node.\n",
    "    \n",
    "    attributes\n",
    "    =====================\n",
    "    leaf : boolean, determines whether this node is a leaf.\n",
    "    keys : list, a list of keys internal to this node\n",
    "    c : list, a list of children of this node\n",
    "    \"\"\"\n",
    "    def __init__(self, leaf=False):\n",
    "        self.leaf = leaf\n",
    "        self.keys = []\n",
    "        self.c    = []\n",
    "        \n",
    "    def __str__(self):\n",
    "        if self.leaf:\n",
    "            return \"Leaf BTreeNode with {0} keys\\n\\tK:{1}\\n\\tC:{2}\\n\".format(len(self.keys), self.keys, self.c)\n",
    "        else:\n",
    "            return \"Internal BTreeNode with {0} keys, {1} children\\n\\tK:{2}\\n\\n\".format(len(self.keys), len(self.c), self.keys, self.c)\n",
    "\n",
    "\n",
    "class BTree(object):\n",
    "    def __init__(self, t):\n",
    "        self.root = BTreeNode(leaf=True)\n",
    "        self.t    = t\n",
    "    \n",
    "    def search(self, k, x=None):\n",
    "        \"\"\"Search the B-Tree for the key k.\n",
    "        \n",
    "        args\n",
    "        =====================\n",
    "        k : Key to search for\n",
    "        x : (optional) Node at which to begin search. Can be None, in which case the entire tree is searched.\n",
    "        \n",
    "        \"\"\"\n",
    "        if isinstance(x, BTreeNode):\n",
    "            i = 0\n",
    "            while i < len(x.keys) and k > x.keys[i]:    # look for index of k\n",
    "                i += 1\n",
    "            if i < len(x.keys) and k == x.keys[i]:       # found exact match\n",
    "                return (x, i)\n",
    "            elif x.leaf:                                # no match in keys, and is leaf ==> no match exists\n",
    "                return None\n",
    "            else:                                       # search children\n",
    "                return self.search(k, x.c[i])\n",
    "        else:                                           # no node provided, search root of tree\n",
    "            return self.search(k, self.root)\n",
    "        \n",
    "    def insert(self, k):\n",
    "        r = self.root\n",
    "        if len(r.keys) == (2*self.t) - 1:     # keys are full, so we must split\n",
    "            s         = BTreeNode()\n",
    "            self.root = s\n",
    "            s.c.insert(0, r)                  # former root is now 0th child of new root s\n",
    "            self._split_child(s, 0)            \n",
    "            self._insert_nonfull(s, k)\n",
    "        else:\n",
    "            self._insert_nonfull(r, k)\n",
    "    \n",
    "    def _insert_nonfull(self, x, k):\n",
    "        i = len(x.keys) - 1\n",
    "        if x.leaf:\n",
    "            # insert a key\n",
    "            x.keys.append(0)\n",
    "            while i >= 0 and k < x.keys[i]:\n",
    "                x.keys[i+1] = x.keys[i]\n",
    "                i -= 1\n",
    "            x.keys[i+1] = k\n",
    "        else:\n",
    "            # insert a child\n",
    "            while i >= 0 and k < x.keys[i]:\n",
    "                i -= 1\n",
    "            i += 1\n",
    "            if len(x.c[i].keys) == (2*self.t) - 1:\n",
    "                self._split_child(x, i)\n",
    "                if k > x.keys[i]:\n",
    "                    i += 1\n",
    "            self._insert_nonfull(x.c[i], k)\n",
    "        \n",
    "    def _split_child(self, x, i):\n",
    "        t = self.t\n",
    "        y = x.c[i]\n",
    "        z = BTreeNode(leaf=y.leaf)\n",
    "        \n",
    "        # slide all children of x to the right and insert z at i+1.\n",
    "        x.c.insert(i+1, z)\n",
    "        x.keys.insert(i, y.keys[t-1])\n",
    "        \n",
    "        # keys of z are t to 2t - 1,\n",
    "        # y is then 0 to t-2\n",
    "        z.keys = y.keys[t:(2*t - 1)]\n",
    "        y.keys = y.keys[0:(t-1)]\n",
    "        \n",
    "        # children of z are t to 2t els of y.c\n",
    "        if not y.leaf:\n",
    "            z.c = y.c[t:(2*t)]\n",
    "            y.c = y.c[0:(t-1)]    \n",
    "        \n",
    "    def __str__(self):\n",
    "        r = self.root\n",
    "        return r.__str__() + '\\n'.join([child.__str__() for child in r.c]) \n",
    "    \n",
    "    def print_tree(self, x, l=0):\n",
    "        print(\"Level \", l, \" \", len(x.keys), end=\":\")\n",
    "        from graphviz import Digraph, nohtml\n",
    "\n",
    "        g = Digraph('g', filename='btree.gv',  node_attr={'shape': 'record', 'height': '.1'})\n",
    "        for i in x.keys:\n",
    "            print(i, end=\" \")\n",
    "        print()\n",
    "        l += 1\n",
    "        if len(x.c) > 0:\n",
    "            for i in x.c:\n",
    "                self.print_tree(i, l)"
   ]
  },
  {
   "cell_type": "code",
   "execution_count": 6,
   "id": "708ff8fb",
   "metadata": {},
   "outputs": [],
   "source": [
    "B = BTree(3)"
   ]
  },
  {
   "cell_type": "code",
   "execution_count": 7,
   "id": "70475286-d361-440c-b513-a322a3306210",
   "metadata": {},
   "outputs": [],
   "source": [
    "#for i in range(10):\n",
    " #   B.insert((i, 2 * i))\n",
    "B.insert(52)\n",
    "B.insert(1)"
   ]
  },
  {
   "cell_type": "code",
   "execution_count": 8,
   "id": "c4753acd-c94c-4c8d-a89e-55d89fa9ab96",
   "metadata": {},
   "outputs": [],
   "source": [
    "B.insert(2)"
   ]
  },
  {
   "cell_type": "code",
   "execution_count": 9,
   "id": "fd6b188f-d454-4db2-9ef1-aa19f742ec2c",
   "metadata": {},
   "outputs": [],
   "source": [
    "B.insert(3)"
   ]
  },
  {
   "cell_type": "code",
   "execution_count": 10,
   "id": "ef148e38-d4a9-4183-a6ce-10949740dad0",
   "metadata": {},
   "outputs": [],
   "source": [
    "B.insert(4)"
   ]
  },
  {
   "cell_type": "code",
   "execution_count": 11,
   "id": "1e176642-ce19-475d-9f17-a511b1341705",
   "metadata": {},
   "outputs": [],
   "source": [
    "B.insert(5)"
   ]
  },
  {
   "cell_type": "code",
   "execution_count": 12,
   "id": "36c0da3b-eea6-41a5-8a73-4d2812c03637",
   "metadata": {},
   "outputs": [],
   "source": [
    "B.insert(6)"
   ]
  },
  {
   "cell_type": "code",
   "execution_count": 13,
   "id": "92d8cd4b-1a74-4cd8-9904-59181706702a",
   "metadata": {},
   "outputs": [
    {
     "name": "stdout",
     "output_type": "stream",
     "text": [
      "Level  0   1:3 \n",
      "Level  1   2:1 2 \n",
      "Level  1   4:4 5 6 52 \n"
     ]
    }
   ],
   "source": [
    "B.print_tree(B.root)"
   ]
  },
  {
   "cell_type": "code",
   "execution_count": 15,
   "id": "d2d70fe8-202d-4629-b557-50b6ee21ca8a",
   "metadata": {},
   "outputs": [
    {
     "name": "stderr",
     "output_type": "stream",
     "text": [
      "Warning: node node8, port f1 unrecognized\n",
      "Warning: node node7, port f1 unrecognized\n"
     ]
    },
    {
     "data": {
      "text/plain": [
       "'btree.gv.pdf'"
      ]
     },
     "execution_count": 15,
     "metadata": {},
     "output_type": "execute_result"
    }
   ],
   "source": [
    "from graphviz import Digraph, nohtml\n",
    "\n",
    "g = Digraph('g', filename='btree.gv', node_attr={'shape': 'record', 'height': '.1'})\n",
    "\n",
    "g.node('node0', nohtml('<f0> |<f1> 1|<f2>'))\n",
    "g.node('node1', nohtml('<f0> |<f1> 2|<f2>'))\n",
    "g.node('node2', nohtml('<f0> |<f1> 3|<f2>'))\n",
    "g.node('node3', nohtml('<f0> |<f1> 4|<f2>'))\n",
    "g.node('node4', nohtml('<f0> |<f1> 5|<f2>'))\n",
    "g.node('node5', nohtml('<f0> |<f1> 6|<f2>'))\n",
    "\n",
    "\n",
    "g.edge('node0:f2', 'node4:f1')\n",
    "g.edge('node0:f0', 'node1:f1')\n",
    "g.edge('node1:f0', 'node2:f1')\n",
    "g.edge('node1:f2', 'node3:f1')\n",
    "g.edge('node2:f2', 'node8:f1')\n",
    "g.edge('node2:f0', 'node7:f1')\n",
    "\n",
    "g.view()"
   ]
  },
  {
   "cell_type": "code",
   "execution_count": null,
   "id": "f5405db3-d834-4d1a-a900-be84c70a7928",
   "metadata": {},
   "outputs": [],
   "source": []
  },
  {
   "cell_type": "code",
   "execution_count": null,
   "id": "d7223e83-77e9-42c7-8ac0-c06ee6531e5d",
   "metadata": {},
   "outputs": [],
   "source": []
  },
  {
   "cell_type": "code",
   "execution_count": null,
   "id": "8549b7d7-302b-47df-905b-ecf568b461c9",
   "metadata": {},
   "outputs": [],
   "source": []
  },
  {
   "cell_type": "code",
   "execution_count": null,
   "id": "1d9312c1-37d7-4cd1-8d67-1c941421d153",
   "metadata": {},
   "outputs": [],
   "source": []
  },
  {
   "cell_type": "code",
   "execution_count": null,
   "id": "9b6ef227-8a78-4a3f-9f89-339b0ee2ce46",
   "metadata": {},
   "outputs": [],
   "source": []
  },
  {
   "cell_type": "code",
   "execution_count": null,
   "id": "a75e52b5-a079-4a6a-a09c-7e4e8f0e7d23",
   "metadata": {},
   "outputs": [],
   "source": []
  }
 ],
 "metadata": {
  "kernelspec": {
   "display_name": "Python 3.8 (tf-cuda)",
   "language": "python",
   "name": "tf"
  },
  "language_info": {
   "codemirror_mode": {
    "name": "ipython",
    "version": 3
   },
   "file_extension": ".py",
   "mimetype": "text/x-python",
   "name": "python",
   "nbconvert_exporter": "python",
   "pygments_lexer": "ipython3",
   "version": "3.8.2"
  }
 },
 "nbformat": 4,
 "nbformat_minor": 5
}
