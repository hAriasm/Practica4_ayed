{
 "cells": [
  {
   "cell_type": "code",
   "execution_count": 1,
   "id": "6f7fa7f6-c872-4109-9679-66cdde24e080",
   "metadata": {},
   "outputs": [],
   "source": [
    "class TreeNode():\n",
    "    def __init__(self, x):\n",
    "        self.val = x\n",
    "        self.left = None\n",
    "        self.right = None\n"
   ]
  },
  {
   "cell_type": "code",
   "execution_count": 3,
   "id": "8f00b5ab-6507-4578-9a9e-866779e73688",
   "metadata": {},
   "outputs": [],
   "source": [
    "def generate_random_tree_by_mid(mid):\n",
    "    if len(mid) == 0:\n",
    "        return None\n",
    "    root = TreeNode(random.choice(mid))\n",
    "    index = mid.index(root.val)\n",
    "    root.left = generate_random_tree_by_mid(mid[:index])\n",
    "    root.right = generate_random_tree_by_mid(mid[index+1:])\n",
    "    return root\n"
   ]
  },
  {
   "cell_type": "code",
   "execution_count": 17,
   "id": "734151bc-0061-40d9-bd54-648161d2943f",
   "metadata": {},
   "outputs": [],
   "source": [
    "import random\n",
    "def generate_random_tree(n, isBST = False):\n",
    "    numbers = [x for x in range(1, 200)]\n",
    "    mid = []\n",
    "    for _ in range(n):\n",
    "        mid.append(random.choice(numbers))\n",
    "    if isBST:\n",
    "        mid.sort()\n",
    "    else:\n",
    "        random.shuffle(mid)\n",
    "\n",
    "    root = generate_random_tree_by_mid(mid)\n",
    "    return root\n"
   ]
  },
  {
   "cell_type": "code",
   "execution_count": 8,
   "id": "2476e178-8892-4b7f-9576-5d0006f9d732",
   "metadata": {},
   "outputs": [],
   "source": [
    "\n",
    "def get_left_width(root):\n",
    "    '''Get the root left width '''\n",
    "    return get_width(root.left)\n",
    "\n",
    "def get_right_width(root):\n",
    "    '''Get the root right width '''\n",
    "    return get_width(root.right)\n",
    "\n",
    "def get_width(root):\n",
    "    '''Get the width of the tree'''\n",
    "    if root == None:\n",
    "        return 0\n",
    "    return get_width(root.left) + 1 + get_width(root.right)\n",
    "\n",
    "def get_height(root):\n",
    "    if root == None:\n",
    "        return 0\n",
    "    return max(get_height(root.left), get_height(root.right)) + 1\n"
   ]
  },
  {
   "cell_type": "code",
   "execution_count": 9,
   "id": "6ce34a79-2523-4c34-a721-7f6d9e40e2d9",
   "metadata": {},
   "outputs": [],
   "source": [
    "d_hor = 4   #Node horizontal distance\n",
    "d_vec = 8   #nodevertical distance\n",
    "radius = 2  #node radius"
   ]
  },
  {
   "cell_type": "code",
   "execution_count": 10,
   "id": "d20255e5-cef0-4ebc-a3b8-6240b6d56b3d",
   "metadata": {},
   "outputs": [],
   "source": [
    "def get_w_h(root):\n",
    "    '''Return the width and height of the tree '''\n",
    "    w = get_width(root)\n",
    "    h = get_height(root)\n",
    "    return w, h"
   ]
  },
  {
   "cell_type": "code",
   "execution_count": 11,
   "id": "3f72f299-fa39-4e54-8405-bbf69eec92a0",
   "metadata": {},
   "outputs": [],
   "source": [
    "def draw_a_node(x, y, val, ax):\n",
    "    '''Draw a node'''\n",
    "    c_node = plt.Circle((x,y), radius=radius, color='green')\n",
    "    ax.add_patch(c_node)\n",
    "    plt.text(x, y, '%d' % val, ha='center', va= 'bottom',fontsize=11)\n",
    "\n",
    "def draw_a_edge(x1, y1, x2, y2, r=radius):\n",
    "    '''Draw an edge'''\n",
    "    x = (x1, x2)\n",
    "    y = (y1, y2)\n",
    "    plt.plot(x, y, 'k-')\n"
   ]
  },
  {
   "cell_type": "code",
   "execution_count": 12,
   "id": "e89bfd79-092f-40b6-b293-3d61c7a63d97",
   "metadata": {},
   "outputs": [],
   "source": [
    "def create_win(root):\n",
    "    '''Create window'''\n",
    "    WEIGHT, HEIGHT = get_w_h(root)\n",
    "    WEIGHT = (WEIGHT+1)*d_hor\n",
    "    HEIGHT = (HEIGHT+1)*d_vec\n",
    "    fig = plt.figure(figsize=(11, 9))\n",
    "    ax = fig.add_subplot(111)\n",
    "    plt.xlim(0, WEIGHT)\n",
    "    plt.ylim(0, HEIGHT)\n",
    "\n",
    "    x = (get_left_width(root) + 1) * d_hor #x, y is the first node coordinate to be drawn, determined by the width of its left subtree\n",
    "    y = HEIGHT - d_vec\n",
    "    return fig, ax, x, y     \n"
   ]
  },
  {
   "cell_type": "code",
   "execution_count": 13,
   "id": "60b26a5d-db6d-4fd5-a6ed-31466791cb55",
   "metadata": {},
   "outputs": [],
   "source": [
    "def print_tree_by_inorder(root, x, y, ax):\n",
    "    if root == None:\n",
    "        return\n",
    "    draw_a_node(x, y, root.val, ax)\n",
    "    lx = rx = 0\n",
    "    ly = ry = y - d_vec\n",
    "    if root.left != None:\n",
    "        lx = x - d_hor * (get_right_width(root.left) + 1)   #x-The width of the right side of the left subtree\n",
    "        draw_a_edge(x, y, lx, ly, radius)\n",
    "    if root.right != None:\n",
    "        rx = x + d_hor * (get_left_width(root.right) + 1)   #x-The width of the left side of the right subtree\n",
    "        draw_a_edge(x, y, rx, ry, radius)\n",
    "    #recursive printing    \n",
    "    print_tree_by_inorder(root.left, lx, ly, ax)\n",
    "    print_tree_by_inorder(root.right, rx, ry, ax)\n"
   ]
  },
  {
   "cell_type": "code",
   "execution_count": 20,
   "id": "b7949d92-24e9-4897-b202-9e8ffd408baa",
   "metadata": {},
   "outputs": [
    {
     "ename": "NameError",
     "evalue": "name 'Circle' is not defined",
     "output_type": "error",
     "traceback": [
      "\u001b[0;31m---------------------------------------------------------------------------\u001b[0m",
      "\u001b[0;31mNameError\u001b[0m                                 Traceback (most recent call last)",
      "\u001b[0;32m<ipython-input-20-107302ba5beb>\u001b[0m in \u001b[0;36m<module>\u001b[0;34m\u001b[0m\n\u001b[1;32m     11\u001b[0m \u001b[0;34m\u001b[0m\u001b[0m\n\u001b[1;32m     12\u001b[0m \u001b[0;32mif\u001b[0m \u001b[0m__name__\u001b[0m \u001b[0;34m==\u001b[0m \u001b[0;34m'__main__'\u001b[0m\u001b[0;34m:\u001b[0m\u001b[0;34m\u001b[0m\u001b[0;34m\u001b[0m\u001b[0m\n\u001b[0;32m---> 13\u001b[0;31m     \u001b[0mmain\u001b[0m\u001b[0;34m(\u001b[0m\u001b[0;34m)\u001b[0m\u001b[0;34m\u001b[0m\u001b[0;34m\u001b[0m\u001b[0m\n\u001b[0m",
      "\u001b[0;32m<ipython-input-20-107302ba5beb>\u001b[0m in \u001b[0;36mmain\u001b[0;34m()\u001b[0m\n\u001b[1;32m      7\u001b[0m \u001b[0;32mdef\u001b[0m \u001b[0mmain\u001b[0m\u001b[0;34m(\u001b[0m\u001b[0;34m)\u001b[0m\u001b[0;34m:\u001b[0m\u001b[0;34m\u001b[0m\u001b[0;34m\u001b[0m\u001b[0m\n\u001b[1;32m      8\u001b[0m     \u001b[0mroot\u001b[0m \u001b[0;34m=\u001b[0m \u001b[0mgenerate_random_tree\u001b[0m\u001b[0;34m(\u001b[0m\u001b[0;36m50\u001b[0m\u001b[0;34m,\u001b[0m \u001b[0;32mTrue\u001b[0m\u001b[0;34m)\u001b[0m\u001b[0;34m\u001b[0m\u001b[0;34m\u001b[0m\u001b[0m\n\u001b[0;32m----> 9\u001b[0;31m     \u001b[0mshow_BTree\u001b[0m\u001b[0;34m(\u001b[0m\u001b[0mroot\u001b[0m\u001b[0;34m)\u001b[0m\u001b[0;34m\u001b[0m\u001b[0;34m\u001b[0m\u001b[0m\n\u001b[0m\u001b[1;32m     10\u001b[0m \u001b[0;34m\u001b[0m\u001b[0m\n\u001b[1;32m     11\u001b[0m \u001b[0;34m\u001b[0m\u001b[0m\n",
      "\u001b[0;32m<ipython-input-20-107302ba5beb>\u001b[0m in \u001b[0;36mshow_BTree\u001b[0;34m(root)\u001b[0m\n\u001b[1;32m      2\u001b[0m \u001b[0;32mdef\u001b[0m \u001b[0mshow_BTree\u001b[0m\u001b[0;34m(\u001b[0m\u001b[0mroot\u001b[0m\u001b[0;34m)\u001b[0m\u001b[0;34m:\u001b[0m\u001b[0;34m\u001b[0m\u001b[0;34m\u001b[0m\u001b[0m\n\u001b[1;32m      3\u001b[0m     \u001b[0m_\u001b[0m\u001b[0;34m,\u001b[0m \u001b[0max\u001b[0m\u001b[0;34m,\u001b[0m \u001b[0mx\u001b[0m\u001b[0;34m,\u001b[0m \u001b[0my\u001b[0m \u001b[0;34m=\u001b[0m \u001b[0mcreate_win\u001b[0m\u001b[0;34m(\u001b[0m\u001b[0mroot\u001b[0m\u001b[0;34m)\u001b[0m\u001b[0;34m\u001b[0m\u001b[0;34m\u001b[0m\u001b[0m\n\u001b[0;32m----> 4\u001b[0;31m     \u001b[0mprint_tree_by_inorder\u001b[0m\u001b[0;34m(\u001b[0m\u001b[0mroot\u001b[0m\u001b[0;34m,\u001b[0m \u001b[0mx\u001b[0m\u001b[0;34m,\u001b[0m \u001b[0my\u001b[0m\u001b[0;34m,\u001b[0m \u001b[0max\u001b[0m\u001b[0;34m)\u001b[0m\u001b[0;34m\u001b[0m\u001b[0;34m\u001b[0m\u001b[0m\n\u001b[0m\u001b[1;32m      5\u001b[0m     \u001b[0mplt\u001b[0m\u001b[0;34m.\u001b[0m\u001b[0mshow\u001b[0m\u001b[0;34m(\u001b[0m\u001b[0;34m)\u001b[0m\u001b[0;34m\u001b[0m\u001b[0;34m\u001b[0m\u001b[0m\n\u001b[1;32m      6\u001b[0m \u001b[0;34m\u001b[0m\u001b[0m\n",
      "\u001b[0;32m<ipython-input-13-2d6295214531>\u001b[0m in \u001b[0;36mprint_tree_by_inorder\u001b[0;34m(root, x, y, ax)\u001b[0m\n\u001b[1;32m      2\u001b[0m     \u001b[0;32mif\u001b[0m \u001b[0mroot\u001b[0m \u001b[0;34m==\u001b[0m \u001b[0;32mNone\u001b[0m\u001b[0;34m:\u001b[0m\u001b[0;34m\u001b[0m\u001b[0;34m\u001b[0m\u001b[0m\n\u001b[1;32m      3\u001b[0m         \u001b[0;32mreturn\u001b[0m\u001b[0;34m\u001b[0m\u001b[0;34m\u001b[0m\u001b[0m\n\u001b[0;32m----> 4\u001b[0;31m     \u001b[0mdraw_a_node\u001b[0m\u001b[0;34m(\u001b[0m\u001b[0mx\u001b[0m\u001b[0;34m,\u001b[0m \u001b[0my\u001b[0m\u001b[0;34m,\u001b[0m \u001b[0mroot\u001b[0m\u001b[0;34m.\u001b[0m\u001b[0mval\u001b[0m\u001b[0;34m,\u001b[0m \u001b[0max\u001b[0m\u001b[0;34m)\u001b[0m\u001b[0;34m\u001b[0m\u001b[0;34m\u001b[0m\u001b[0m\n\u001b[0m\u001b[1;32m      5\u001b[0m     \u001b[0mlx\u001b[0m \u001b[0;34m=\u001b[0m \u001b[0mrx\u001b[0m \u001b[0;34m=\u001b[0m \u001b[0;36m0\u001b[0m\u001b[0;34m\u001b[0m\u001b[0;34m\u001b[0m\u001b[0m\n\u001b[1;32m      6\u001b[0m     \u001b[0mly\u001b[0m \u001b[0;34m=\u001b[0m \u001b[0mry\u001b[0m \u001b[0;34m=\u001b[0m \u001b[0my\u001b[0m \u001b[0;34m-\u001b[0m \u001b[0md_vec\u001b[0m\u001b[0;34m\u001b[0m\u001b[0;34m\u001b[0m\u001b[0m\n",
      "\u001b[0;32m<ipython-input-11-ae569de44f91>\u001b[0m in \u001b[0;36mdraw_a_node\u001b[0;34m(x, y, val, ax)\u001b[0m\n\u001b[1;32m      1\u001b[0m \u001b[0;32mdef\u001b[0m \u001b[0mdraw_a_node\u001b[0m\u001b[0;34m(\u001b[0m\u001b[0mx\u001b[0m\u001b[0;34m,\u001b[0m \u001b[0my\u001b[0m\u001b[0;34m,\u001b[0m \u001b[0mval\u001b[0m\u001b[0;34m,\u001b[0m \u001b[0max\u001b[0m\u001b[0;34m)\u001b[0m\u001b[0;34m:\u001b[0m\u001b[0;34m\u001b[0m\u001b[0;34m\u001b[0m\u001b[0m\n\u001b[1;32m      2\u001b[0m     \u001b[0;34m'''Draw a node'''\u001b[0m\u001b[0;34m\u001b[0m\u001b[0;34m\u001b[0m\u001b[0m\n\u001b[0;32m----> 3\u001b[0;31m     \u001b[0mc_node\u001b[0m \u001b[0;34m=\u001b[0m \u001b[0mCircle\u001b[0m\u001b[0;34m(\u001b[0m\u001b[0;34m(\u001b[0m\u001b[0mx\u001b[0m\u001b[0;34m,\u001b[0m\u001b[0my\u001b[0m\u001b[0;34m)\u001b[0m\u001b[0;34m,\u001b[0m \u001b[0mradius\u001b[0m\u001b[0;34m=\u001b[0m\u001b[0mradius\u001b[0m\u001b[0;34m,\u001b[0m \u001b[0mcolor\u001b[0m\u001b[0;34m=\u001b[0m\u001b[0;34m'green'\u001b[0m\u001b[0;34m)\u001b[0m\u001b[0;34m\u001b[0m\u001b[0;34m\u001b[0m\u001b[0m\n\u001b[0m\u001b[1;32m      4\u001b[0m     \u001b[0max\u001b[0m\u001b[0;34m.\u001b[0m\u001b[0madd_patch\u001b[0m\u001b[0;34m(\u001b[0m\u001b[0mc_node\u001b[0m\u001b[0;34m)\u001b[0m\u001b[0;34m\u001b[0m\u001b[0;34m\u001b[0m\u001b[0m\n\u001b[1;32m      5\u001b[0m     \u001b[0mplt\u001b[0m\u001b[0;34m.\u001b[0m\u001b[0mtext\u001b[0m\u001b[0;34m(\u001b[0m\u001b[0mx\u001b[0m\u001b[0;34m,\u001b[0m \u001b[0my\u001b[0m\u001b[0;34m,\u001b[0m \u001b[0;34m'%d'\u001b[0m \u001b[0;34m%\u001b[0m \u001b[0mval\u001b[0m\u001b[0;34m,\u001b[0m \u001b[0mha\u001b[0m\u001b[0;34m=\u001b[0m\u001b[0;34m'center'\u001b[0m\u001b[0;34m,\u001b[0m \u001b[0mva\u001b[0m\u001b[0;34m=\u001b[0m \u001b[0;34m'bottom'\u001b[0m\u001b[0;34m,\u001b[0m\u001b[0mfontsize\u001b[0m\u001b[0;34m=\u001b[0m\u001b[0;36m11\u001b[0m\u001b[0;34m)\u001b[0m\u001b[0;34m\u001b[0m\u001b[0;34m\u001b[0m\u001b[0m\n",
      "\u001b[0;31mNameError\u001b[0m: name 'Circle' is not defined"
     ]
    },
    {
     "data": {
      "image/png": "[encoded data removed]",
      "text/plain": [
       "<Figure size 792x648 with 1 Axes>"
      ]
     },
     "metadata": {
      "needs_background": "light"
     },
     "output_type": "display_data"
    }
   ],
   "source": [
    "import matplotlib.pyplot as plt\n",
    "def show_BTree(root):\n",
    "    _, ax, x, y = create_win(root)\n",
    "    print_tree_by_inorder(root, x, y, ax)\n",
    "    plt.show()\n",
    "    \n",
    "def main():\n",
    "    root = generate_random_tree(50, True)\n",
    "    show_BTree(root)\n",
    "\n",
    "\n",
    "if __name__ == '__main__':\n",
    "    main()\n"
   ]
  },
  {
   "cell_type": "code",
   "execution_count": null,
   "id": "c59cbd40-04c0-4d97-8749-bc116b7dba95",
   "metadata": {},
   "outputs": [],
   "source": []
  }
 ],
 "metadata": {
  "kernelspec": {
   "display_name": "Python 3",
   "language": "python",
   "name": "python3"
  },
  "language_info": {
   "codemirror_mode": {
    "name": "ipython",
    "version": 3
   },
   "file_extension": ".py",
   "mimetype": "text/x-python",
   "name": "python",
   "nbconvert_exporter": "python",
   "pygments_lexer": "ipython3",
   "version": "3.8.10"
  }
 },
 "nbformat": 4,
 "nbformat_minor": 5
}
